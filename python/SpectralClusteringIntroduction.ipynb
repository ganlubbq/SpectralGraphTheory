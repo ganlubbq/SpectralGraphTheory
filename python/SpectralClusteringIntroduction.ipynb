{
 "cells": [
  {
   "cell_type": "code",
   "execution_count": 131,
   "metadata": {
    "collapsed": true
   },
   "outputs": [],
   "source": [
    "#Documentation : http://docs.scipy.org/doc/scipy/reference/sparse.html\n",
    "\"\"\"\n",
    "Sparse matrices can be used in arithmetic operations: they support addition, subtraction, multiplication, division, and matrix power.\n",
    "Advantages of the CSR format\n",
    "\n",
    "        efficient arithmetic operations CSR + CSR, CSR * CSR, etc.\n",
    "        efficient row slicing\n",
    "        fast matrix vector products\n",
    "Disadvantages of the CSR format\n",
    "\n",
    "        slow column slicing operations (consider CSC)\n",
    "        changes to the sparsity structure are expensive (consider LIL or DOK)\n",
    "\"\"\"\n",
    "from scipy.sparse import csr_matrix\n",
    "from scipy.sparse import dia_matrix\n",
    "import scipy.sparse.linalg as spl\n",
    "\n",
    "import numpy as np\n",
    "import matplotlib.pyplot as plt\n",
    "%matplotlib inline"
   ]
  },
  {
   "cell_type": "markdown",
   "metadata": {},
   "source": [
    "# SpectralGraphTheory\n",
    "\n",
    "## Introduction\n",
    "This notebook intends to show some experimental work about spectral graph theory, and in this case mainly about spectral clustering\n",
    "We will try to reproduce some of the interesting principle presented in the paper by Andrew Ng (On spectral clustering: Analysis and an algorithm.)\n",
    "\n",
    "## Graph as matrices\n",
    "In this notebook we will only be using undirected graphs, whose structure can be represented using an adjacency matrix $A \\in \\mathbb{R}^{n\\times n}$ that can be designed as follow for, $n$ vertices $s_i, i = 0,1,\\dots n-1$:\n",
    "$$\n",
    "    A_{ij} =\n",
    "    \\begin{cases}\n",
    "        e^{-\\frac{\\|s_i-s_j\\|}{2\\sigma^2}},& \\text{if } i\\neq j\\\\\n",
    "        0              & \\text{otherwise}\n",
    "    \\end{cases}\n",
    "$$\n",
    "\n",
    "For any vertex $s_i$ we define its degree $d_j$ as the sum of the $j^{th}$ row of the matrix $A$.\n",
    "From this we can also define $D = diag(d_0, d_1,\\dots,d_{n-1})$ \n",
    "\n",
    "## Laplacian and normalized laplacian\n",
    "\n",
    "We can define the Laplacian operator , which in our case is also known as \"normalized laplacian\" L:\n",
    "$$\n",
    "    L = D^{-\\frac{1}{2}}AD^{-\\frac{1}{2}}\n",
    "$$"
   ]
  },
  {
   "cell_type": "code",
   "execution_count": 132,
   "metadata": {
    "collapsed": false
   },
   "outputs": [
    {
     "data": {
      "text/plain": [
       "<matplotlib.collections.PathCollection at 0x7f0ced42bf60>"
      ]
     },
     "execution_count": 132,
     "metadata": {},
     "output_type": "execute_result"
    },
    {
     "data": {
      "image/png": "[encoded data removed]",
      "text/plain": [
       "<matplotlib.figure.Figure at 0x7f0ced65f128>"
      ]
     },
     "metadata": {},
     "output_type": "display_data"
    }
   ],
   "source": [
    "#Let's first define some funny manifold in R2\n",
    "N = 256\n",
    "#norm = np.log(np.linspace(np.exp(0.1),np.exp(1),N))\n",
    "norm = np.linspace(0.1,1,N)\n",
    "angle = 2*np.pi*np.linspace(0,1,N)*1.5 #we want a loop of 1.5 times the circle\n",
    "angle2 = 1*np.pi+2*np.pi*np.linspace(0,1,N)*1.5 #we want a loop of 1.5 times the circle\n",
    "\n",
    "#defines 2 sets of points, that we will try to cluster later, and add noise\n",
    "NbOfClass = 2\n",
    "noise = np.random.rand(2,N)*0.1\n",
    "points=norm*[np.cos(angle),np.sin(angle)]+noise\n",
    "noise = np.random.rand(2,N)*0.1\n",
    "points2=norm*[np.cos(angle2),np.sin(angle2)]+noise\n",
    "\n",
    "#Simple example for isotropic gaussian distribution\n",
    "#sigmaNoise = 0.3\n",
    "#points = np.array([np.random.normal(-1,sigmaNoise,N),np.random.normal(-1,sigmaNoise,N)])\n",
    "#points2 = np.array([np.random.normal(1,sigmaNoise,N),np.random.normal(1,sigmaNoise,N)])\n",
    "\n",
    "#Point cloud\n",
    "plt.scatter(points[0,:],points[1,:], color='b')\n",
    "plt.scatter(points2[0,:],points2[1,:], color='r')"
   ]
  },
  {
   "cell_type": "code",
   "execution_count": 133,
   "metadata": {
    "collapsed": false
   },
   "outputs": [],
   "source": [
    "#Now we will concatenate those points\n",
    "points = np.concatenate( (points, points2), axis=1 )"
   ]
  },
  {
   "cell_type": "code",
   "execution_count": 138,
   "metadata": {
    "collapsed": false
   },
   "outputs": [],
   "source": [
    "#Threshold: Below this value we consider that vertices are not connected\n",
    "thresh= 1e-4\n",
    "#Sigma of the gaussian distance metric\n",
    "sigma = 5e-2\n",
    "sigmaSquare = sigma**2\n",
    "#will contain the value of the edges\n",
    "data=[]\n",
    "rowIdx=[]\n",
    "colIdx=[]\n",
    "\n",
    "#Now we are going to fill the graph matrix, neglecting small terms\n",
    "for idxI in range(points.shape[1]):\n",
    "    for idxJ in range(idxI+1,points.shape[1]):\n",
    "        dist = np.exp(-np.linalg.norm(points[:,idxI]-points[:,idxJ])**2/(2*sigmaSquare))\n",
    "        if( dist > thresh ):\n",
    "            data.append(dist)\n",
    "            data.append(dist)\n",
    "            rowIdx.append(idxI)\n",
    "            rowIdx.append(idxJ)\n",
    "            colIdx.append(idxJ)\n",
    "            colIdx.append(idxI)\n",
    "\n",
    "#Practical implementation using scipy support for sparse matrices\n",
    "A = csr_matrix((np.array(data), (np.array(rowIdx), np.array(colIdx))), dtype=np.float32)\n",
    "\n",
    "#Now the diagonal matrix\n",
    "D = dia_matrix((np.array(A.sum(axis=0)),0),shape=A.shape)\n",
    "\n",
    "#We can define the laplacian: L = D^-0.5 A D^-0.5\n",
    "L = D.power(-0.5)*A*D.power(-0.5)"
   ]
  },
  {
   "cell_type": "markdown",
   "metadata": {},
   "source": [
    "## Clustering algorithm initialization\n",
    "We will now implement the spectral clustering algorithm from Andrew Ng and Michael Jordan, which reads as follows:\n"
   ]
  },
  {
   "cell_type": "code",
   "execution_count": 139,
   "metadata": {
    "collapsed": false
   },
   "outputs": [
    {
     "ename": "ArpackNoConvergence",
     "evalue": "ARPACK error -1: No convergence (5111 iterations, 0/2 eigenvectors converged)",
     "output_type": "error",
     "traceback": [
      "\u001b[1;31m---------------------------------------------------------------------------\u001b[0m",
      "\u001b[1;31mArpackNoConvergence\u001b[0m                       Traceback (most recent call last)",
      "\u001b[1;32m<ipython-input-139-3ff00d970747>\u001b[0m in \u001b[0;36m<module>\u001b[1;34m()\u001b[0m\n\u001b[0;32m      5\u001b[0m \u001b[1;31m# See http://docs.scipy.org/doc/scipy/reference/generated/scipy.sparse.linalg.eigsh.html and\u001b[0m\u001b[1;33m\u001b[0m\u001b[1;33m\u001b[0m\u001b[0m\n\u001b[0;32m      6\u001b[0m \u001b[1;31m# http://docs.scipy.org/doc/scipy-0.14.0/reference/generated/scipy.sparse.linalg.svds.html\u001b[0m\u001b[1;33m\u001b[0m\u001b[1;33m\u001b[0m\u001b[0m\n\u001b[1;32m----> 7\u001b[1;33m \u001b[1;33m[\u001b[0m\u001b[0mw\u001b[0m\u001b[1;33m,\u001b[0m\u001b[0mX\u001b[0m\u001b[1;33m]\u001b[0m \u001b[1;33m=\u001b[0m \u001b[0mspl\u001b[0m\u001b[1;33m.\u001b[0m\u001b[0meigsh\u001b[0m\u001b[1;33m(\u001b[0m\u001b[0mL\u001b[0m\u001b[1;33m,\u001b[0m \u001b[0mk\u001b[0m\u001b[1;33m=\u001b[0m\u001b[1;36m2\u001b[0m\u001b[1;33m)\u001b[0m\u001b[1;33m\u001b[0m\u001b[0m\n\u001b[0m\u001b[0;32m      8\u001b[0m \u001b[1;33m\u001b[0m\u001b[0m\n\u001b[0;32m      9\u001b[0m \u001b[1;31m#with w : array Array of k eigenvalues\u001b[0m\u001b[1;33m\u001b[0m\u001b[1;33m\u001b[0m\u001b[0m\n",
      "\u001b[1;32m/home/gnthibault/anaconda3/lib/python3.5/site-packages/scipy/sparse/linalg/eigen/arpack/arpack.py\u001b[0m in \u001b[0;36meigsh\u001b[1;34m(A, k, M, sigma, which, v0, ncv, maxiter, tol, return_eigenvectors, Minv, OPinv, mode)\u001b[0m\n\u001b[0;32m   1587\u001b[0m \u001b[1;33m\u001b[0m\u001b[0m\n\u001b[0;32m   1588\u001b[0m     \u001b[1;32mwhile\u001b[0m \u001b[1;32mnot\u001b[0m \u001b[0mparams\u001b[0m\u001b[1;33m.\u001b[0m\u001b[0mconverged\u001b[0m\u001b[1;33m:\u001b[0m\u001b[1;33m\u001b[0m\u001b[0m\n\u001b[1;32m-> 1589\u001b[1;33m         \u001b[0mparams\u001b[0m\u001b[1;33m.\u001b[0m\u001b[0miterate\u001b[0m\u001b[1;33m(\u001b[0m\u001b[1;33m)\u001b[0m\u001b[1;33m\u001b[0m\u001b[0m\n\u001b[0m\u001b[0;32m   1590\u001b[0m \u001b[1;33m\u001b[0m\u001b[0m\n\u001b[0;32m   1591\u001b[0m     \u001b[1;32mreturn\u001b[0m \u001b[0mparams\u001b[0m\u001b[1;33m.\u001b[0m\u001b[0mextract\u001b[0m\u001b[1;33m(\u001b[0m\u001b[0mreturn_eigenvectors\u001b[0m\u001b[1;33m)\u001b[0m\u001b[1;33m\u001b[0m\u001b[0m\n",
      "\u001b[1;32m/home/gnthibault/anaconda3/lib/python3.5/site-packages/scipy/sparse/linalg/eigen/arpack/arpack.py\u001b[0m in \u001b[0;36miterate\u001b[1;34m(self)\u001b[0m\n\u001b[0;32m    559\u001b[0m                 \u001b[1;32mpass\u001b[0m\u001b[1;33m\u001b[0m\u001b[0m\n\u001b[0;32m    560\u001b[0m             \u001b[1;32melif\u001b[0m \u001b[0mself\u001b[0m\u001b[1;33m.\u001b[0m\u001b[0minfo\u001b[0m \u001b[1;33m==\u001b[0m \u001b[1;36m1\u001b[0m\u001b[1;33m:\u001b[0m\u001b[1;33m\u001b[0m\u001b[0m\n\u001b[1;32m--> 561\u001b[1;33m                 \u001b[0mself\u001b[0m\u001b[1;33m.\u001b[0m\u001b[0m_raise_no_convergence\u001b[0m\u001b[1;33m(\u001b[0m\u001b[1;33m)\u001b[0m\u001b[1;33m\u001b[0m\u001b[0m\n\u001b[0m\u001b[0;32m    562\u001b[0m             \u001b[1;32melse\u001b[0m\u001b[1;33m:\u001b[0m\u001b[1;33m\u001b[0m\u001b[0m\n\u001b[0;32m    563\u001b[0m                 \u001b[1;32mraise\u001b[0m \u001b[0mArpackError\u001b[0m\u001b[1;33m(\u001b[0m\u001b[0mself\u001b[0m\u001b[1;33m.\u001b[0m\u001b[0minfo\u001b[0m\u001b[1;33m,\u001b[0m \u001b[0minfodict\u001b[0m\u001b[1;33m=\u001b[0m\u001b[0mself\u001b[0m\u001b[1;33m.\u001b[0m\u001b[0miterate_infodict\u001b[0m\u001b[1;33m)\u001b[0m\u001b[1;33m\u001b[0m\u001b[0m\n",
      "\u001b[1;32m/home/gnthibault/anaconda3/lib/python3.5/site-packages/scipy/sparse/linalg/eigen/arpack/arpack.py\u001b[0m in \u001b[0;36m_raise_no_convergence\u001b[1;34m(self)\u001b[0m\n\u001b[0;32m    365\u001b[0m             \u001b[0mvec\u001b[0m \u001b[1;33m=\u001b[0m \u001b[0mnp\u001b[0m\u001b[1;33m.\u001b[0m\u001b[0mzeros\u001b[0m\u001b[1;33m(\u001b[0m\u001b[1;33m(\u001b[0m\u001b[0mself\u001b[0m\u001b[1;33m.\u001b[0m\u001b[0mn\u001b[0m\u001b[1;33m,\u001b[0m \u001b[1;36m0\u001b[0m\u001b[1;33m)\u001b[0m\u001b[1;33m)\u001b[0m\u001b[1;33m\u001b[0m\u001b[0m\n\u001b[0;32m    366\u001b[0m             \u001b[0mk_ok\u001b[0m \u001b[1;33m=\u001b[0m \u001b[1;36m0\u001b[0m\u001b[1;33m\u001b[0m\u001b[0m\n\u001b[1;32m--> 367\u001b[1;33m         \u001b[1;32mraise\u001b[0m \u001b[0mArpackNoConvergence\u001b[0m\u001b[1;33m(\u001b[0m\u001b[0mmsg\u001b[0m \u001b[1;33m%\u001b[0m \u001b[1;33m(\u001b[0m\u001b[0mnum_iter\u001b[0m\u001b[1;33m,\u001b[0m \u001b[0mk_ok\u001b[0m\u001b[1;33m,\u001b[0m \u001b[0mself\u001b[0m\u001b[1;33m.\u001b[0m\u001b[0mk\u001b[0m\u001b[1;33m)\u001b[0m\u001b[1;33m,\u001b[0m \u001b[0mev\u001b[0m\u001b[1;33m,\u001b[0m \u001b[0mvec\u001b[0m\u001b[1;33m)\u001b[0m\u001b[1;33m\u001b[0m\u001b[0m\n\u001b[0m\u001b[0;32m    368\u001b[0m \u001b[1;33m\u001b[0m\u001b[0m\n\u001b[0;32m    369\u001b[0m \u001b[1;33m\u001b[0m\u001b[0m\n",
      "\u001b[1;31mArpackNoConvergence\u001b[0m: ARPACK error -1: No convergence (5111 iterations, 0/2 eigenvectors converged)"
     ]
    }
   ],
   "source": [
    "#Spectral Dimensionality reduction that will be used, must be equal to nb of class\n",
    "SpectralDimensionality = NbOfClass\n",
    "\n",
    "# Get the two first eigenvalues of L, a symmetric positive definite matrix\n",
    "# See http://docs.scipy.org/doc/scipy/reference/generated/scipy.sparse.linalg.eigsh.html and\n",
    "# http://docs.scipy.org/doc/scipy-0.14.0/reference/generated/scipy.sparse.linalg.svds.html\n",
    "[w,X] = spl.eigsh(L, k=2)\n",
    "\n",
    "#with w : array Array of k eigenvalues\n",
    "#with X : array An array representing the k eigenvectors.\n",
    "#The column X[:, i] is the eigenvector corresponding to the eigenvalue w[i].\n",
    "\n",
    "#As stated in Andrew Ng paper, we will now perform row normalization of these eigen values\n",
    "Y=np.divide(X.T,np.linalg.norm(X,axis=1)).T\n"
   ]
  },
  {
   "cell_type": "markdown",
   "metadata": {},
   "source": [
    "## Run K-Means unsupervised clustering on spectral data"
   ]
  },
  {
   "cell_type": "code",
   "execution_count": null,
   "metadata": {
    "collapsed": false
   },
   "outputs": [],
   "source": [
    "NbIterKMean = 250\n",
    "iterIdx = 0\n",
    "\n",
    "#Initialize centroids\n",
    "centroids = Y[np.random.randint(points.shape[1],size=NbOfClass),:]\n",
    "#Initialize the previous minimal distance map, with cluster 0\n",
    "distmap = np.linalg.norm(Y-centroids[0,:],axis=1)\n",
    "#Initialize \"belonging vector\" that contains for each sample its class\n",
    "belong = np.zeros([points.shape[1]],dtype=np.int)\n",
    "#Do we need to change cluster ?\n",
    "changeCluster = np.zeros([points.shape[1]],dtype=np.bool)\n",
    "changeCluster.fill(True)\n",
    "\n",
    "while( changeCluster.any() and iterIdx < NbIterKMean):\n",
    "    #Assign points to clusters\n",
    "    for clusterIndex in range(NbOfClass):\n",
    "        #Compute the current distance between every point and the current centroid\n",
    "        distance = np.linalg.norm(Y-centroids[clusterIndex,:],axis=1)\n",
    "        #Does we need to change cluster (boolean vector)\n",
    "        changeCluster = distance < distmap\n",
    "        #if so update belonging matrix, and distmap\n",
    "        belong[changeCluster] = clusterIndex\n",
    "        distmap = np.minimum(distance, distmap)\n",
    "\n",
    "    #update centroids\n",
    "    for clusterIndex in range(NbOfClass):\n",
    "        centroids[clusterIndex,:] = np.mean(Y[belong==clusterIndex,:])\n",
    "        \n",
    "    iterIdx += 1"
   ]
  },
  {
   "cell_type": "markdown",
   "metadata": {},
   "source": [
    "## Evaluate classification results"
   ]
  },
  {
   "cell_type": "code",
   "execution_count": null,
   "metadata": {
    "collapsed": false
   },
   "outputs": [],
   "source": [
    "#Assign the resulting classification to vectors\n",
    "part1 = points[:,belong==0]\n",
    "part2 = points[:,belong==1]\n",
    "\n",
    "#Point cloud\n",
    "plt.scatter(part1[0,:],part1[1,:], color='b')\n",
    "plt.scatter(part2[0,:],part2[1,:], color='r')"
   ]
  },
  {
   "cell_type": "markdown",
   "metadata": {
    "collapsed": true
   },
   "source": [
    "## References\n",
    "\n",
    "Book :\n",
    "Lectures on Spectral Graph Theory by FanR.K.Chung: http://www.math.ucsd.edu/~fan/cbms.pdf\n",
    "\n",
    "Article:\n",
    "Ng, A. Y., Jordan, M. I., & Weiss, Y. (2002). On spectral clustering: Analysis and an algorithm. Advances in neural information processing systems, 2, 849-856.\n",
    "http://ai.stanford.edu/~ang/papers/nips01-spectral.pdf"
   ]
  }
 ],
 "metadata": {
  "kernelspec": {
   "display_name": "Python 3",
   "language": "python",
   "name": "python3"
  },
  "language_info": {
   "codemirror_mode": {
    "name": "ipython",
    "version": 3
   },
   "file_extension": ".py",
   "mimetype": "text/x-python",
   "name": "python",
   "nbconvert_exporter": "python",
   "pygments_lexer": "ipython3",
   "version": "3.5.1"
  }
 },
 "nbformat": 4,
 "nbformat_minor": 0
}

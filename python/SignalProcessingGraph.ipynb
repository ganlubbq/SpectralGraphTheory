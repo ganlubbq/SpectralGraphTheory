{
 "cells": [
  {
   "cell_type": "code",
   "execution_count": 1,
   "metadata": {
    "collapsed": false
   },
   "outputs": [
    {
     "name": "stdout",
     "output_type": "stream",
     "text": [
      "Populating the interactive namespace from numpy and matplotlib\n"
     ]
    }
   ],
   "source": [
    "#Documentation : http://docs.scipy.org/doc/scipy/reference/sparse.html\n",
    "\"\"\"\n",
    "Sparse matrices can be used in arithmetic operations: they support addition, subtraction, multiplication, division, and matrix power.\n",
    "Advantages of the CSR format\n",
    "\n",
    "        efficient arithmetic operations CSR + CSR, CSR * CSR, etc.\n",
    "        efficient row slicing\n",
    "        fast matrix vector products\n",
    "Disadvantages of the CSR format\n",
    "\n",
    "        slow column slicing operations (consider CSC)\n",
    "        changes to the sparsity structure are expensive (consider LIL or DOK)\n",
    "\"\"\"\n",
    "from scipy.sparse import csr_matrix\n",
    "from scipy.sparse import dia_matrix\n",
    "import scipy.sparse.linalg as spl\n",
    "\n",
    "import scipy as sc\n",
    "import numpy as np\n",
    "import matplotlib.pyplot as plt\n",
    "import matplotlib.cm as cm\n",
    "%matplotlib inline\n",
    "%pylab inline"
   ]
  },
  {
   "cell_type": "markdown",
   "metadata": {},
   "source": [
    "# Signal processing on graph"
   ]
  },
  {
   "cell_type": "markdown",
   "metadata": {},
   "source": [
    "### Introduction\n",
    "\n",
    "First, we would like to thank John D Cook for its [short introduction](https://www.johndcook.com/blog/2016/02/09/fourier-transform-of-a-function-on-a-graph/) on Fourier series on graph, and of course [Pierre Vandergheynst](https://scholar.google.ch/citations?user=1p9NOFEAAAAJ&hl=fr), for its interesting courses and its contributions to this field."
   ]
  },
  {
   "cell_type": "markdown",
   "metadata": {},
   "source": [
    "### Fourier series\n",
    "\n",
    "Fourier series properties can be analyzed within various mathenatical framework. One of them is related to the Laplacian operator.\n",
    "\n",
    "We recall that the Laplacian operator, sometimes written $\\nabla \\cdot \\nabla$, $\\nabla^2$ or $\\Delta$, where $\\nabla$ can be written $\\left( \\frac{\\partial}{\\partial x_0}, \\frac{\\partial}{\\partial x_1}, \\dots \\frac{\\partial}{\\partial x_{n-1}} \\right)$ and the laplacian operator applied to a function $f$ reads $\\Delta f = \\sum_{i=0}^{n-1} \\frac{\\partial f}{\\partial x_i^2}$.\n",
    "\n",
    "It is interesting to notice that the trigonometric polynomial that defines the (separable) Fourier series basis elements are eigenfunctions for the laplacian operators over euclidean spaces:\n",
    "\n",
    "lets define $\\delta_{nF}(x) = e^{2 \\pi j nFx}$\n",
    "\n",
    "And\n",
    "\\begin{align}\n",
    "  \\frac{\\partial \\delta_{nF}}{\\partial x} (x) &= \\frac{\\partial  e^{2 \\pi j nFx}}{\\partial x} \\\\\n",
    "  &= 2 \\pi j nF e^{2 \\pi j nFx} \\\\\n",
    "\\end{align}\n",
    "\n",
    "And\n",
    "\\begin{align}\n",
    "  \\frac{\\partial \\delta_{nF}}{\\partial x^2} (x) &=  -(2\\pi nF)^2 e^{2 \\pi j nFx} \\\\\n",
    "  &= -(2\\pi nF)^2 \\delta_{nF}\\\\\n",
    "  &= \\lambda \\delta_{nF}\n",
    "\\end{align}\n",
    "\n",
    "Moreover, eigenfunctions of the laplacian can also be defined for functions on finite domains (Bessel functions for radially symmetric domain like disks and sphere)"
   ]
  },
  {
   "cell_type": "markdown",
   "metadata": {},
   "source": [
    "### Fourier series on graph\n",
    "\n",
    "Following the definition seen in the previous section, we can see that on cane define eigenfunctions of laplacian operator on various domain including graph, for instance in our case, where we consider our laplacian operator $L$ as: $L=D^{-\\frac{1}{2}}AD^{-\\frac{1}{2}}$ where $A$ is the adjacency matrix and $D$ is the degree matrix of the graph.\n",
    "\n",
    "Hopefully, in an undirected graph, $L$ is a symmetric positive semi definite matrix, hence is diagonalizable in an orthonornmal basis. A function that is defined by a set of values, one per node can then be analyzed over this graph, using eigenvectors of the graph ordered by the norm of their corresponding eigenvalues.\n",
    "\n",
    "On can then consider that projection of the function over the lower eigenvectors corresponds to low \"frequencies\", and conversely, the high \"frequencies\" are obtained when projecting the function over the highest eigenvalues\n"
   ]
  },
  {
   "cell_type": "code",
   "execution_count": 11,
   "metadata": {
    "collapsed": false
   },
   "outputs": [
    {
     "data": {
      "text/plain": [
       "<matplotlib.text.Text at 0x7f8543ffed30>"
      ]
     },
     "execution_count": 11,
     "metadata": {},
     "output_type": "execute_result"
    },
    {
     "data": {
      "image/png": "[encoded data removed]",
      "text/plain": [
       "<matplotlib.figure.Figure at 0x7f8544077fd0>"
      ]
     },
     "metadata": {},
     "output_type": "display_data"
    }
   ],
   "source": [
    "# Import an image, and downsize it in order to make the problem numerically tractable\n",
    "im=sc.misc.imresize(sc.misc.ascent(),size=(64,64))\n",
    "im=im.astype(np.float32)\n",
    "plt.imshow(im, interpolation='nearest', cmap=cm.gray, vmin=0, vmax=255)\n",
    "figsize(8,8)\n",
    "plt.axis(\"off\")\n",
    "colorbar()       # displays the color bar close to the image\n",
    "title('Initial image')"
   ]
  },
  {
   "cell_type": "code",
   "execution_count": 12,
   "metadata": {
    "collapsed": false
   },
   "outputs": [
    {
     "name": "stdout",
     "output_type": "stream",
     "text": [
      "  (0, 0)\t1.0\n",
      "  (1, 1)\t2.0\n",
      "  (2, 2)\t2.0\n",
      "  (3, 3)\t2.0\n",
      "  (4, 4)\t2.0\n",
      "  (5, 5)\t1.0\n",
      "  (6, 6)\t2.0\n",
      "  (7, 7)\t4.0\n",
      "  (8, 8)\t4.0\n",
      "  (9, 9)\t4.0\n",
      "  (10, 10)\t4.0\n",
      "  (11, 11)\t2.0\n",
      "  (12, 12)\t2.0\n",
      "  (13, 13)\t4.0\n",
      "  (14, 14)\t4.0\n",
      "  (15, 15)\t4.0\n",
      "  (16, 16)\t4.0\n",
      "  (17, 17)\t2.0\n",
      "  (18, 18)\t2.0\n",
      "  (19, 19)\t4.0\n",
      "  (20, 20)\t4.0\n",
      "  (21, 21)\t4.0\n",
      "  (22, 22)\t4.0\n",
      "  (23, 23)\t2.0\n",
      "  (24, 24)\t2.0\n",
      "  (25, 25)\t4.0\n",
      "  (26, 26)\t4.0\n",
      "  (27, 27)\t4.0\n",
      "  (28, 28)\t4.0\n",
      "  (29, 29)\t2.0\n",
      "  (30, 30)\t1.0\n",
      "  (31, 31)\t2.0\n",
      "  (32, 32)\t2.0\n",
      "  (33, 33)\t2.0\n",
      "  (34, 34)\t2.0\n",
      "  (35, 35)\t1.0\n"
     ]
    }
   ],
   "source": [
    "#Threshold: Below this value we consider that vertices are not connected\n",
    "#thresh= 1e-4\n",
    "\n",
    "#Sigma of the gaussian distance metric\n",
    "sigma = 10\n",
    "sigmaSquare = sigma**2\n",
    "\n",
    "#Size of the stencil\n",
    "stenSize = 1\n",
    "\n",
    "#will contain the value of the edges\n",
    "data=[]\n",
    "rowIdx=[]\n",
    "colIdx=[]\n",
    "\n",
    "\"\"\"\n",
    "Now we are going to fill the graph matrix, neglecting small terms.\n",
    "Distance are actually computed twice, this can be optimized\n",
    "\"\"\"\n",
    "\n",
    "for idxI in range(im.shape[0]):\n",
    "  for idxJ in range(im.shape[1]):\n",
    "    curPixIdx=idxI+im.shape[0]*idxJ\n",
    "    for stenX in range(-stenSize,stenSize+1):\n",
    "      for stenY in range(-stenSize,stenSize+1):\n",
    "        stenIdxX = idxI+stenX\n",
    "        stenIdxY = idxJ+stenY\n",
    "        destPixIdx = stenIdxX+im.shape[0]*stenIdxY\n",
    "        if (stenIdxX>=0)and(stenIdxX<im.shape[0])and\\\n",
    "          (stenIdxY>=0)and(stenIdxY<im.shape[1])and\\\n",
    "          ((stenIdxX!=idxI)and(stenIdxY!=idxJ)):\n",
    "          dist = np.exp(-np.linalg.norm(im[idxI,idxJ]-im[stenIdxX,stenIdxY])**2/(2*sigmaSquare))\n",
    "          dist=1\n",
    "          #if (dist>thresh):\n",
    "          data.append(dist)\n",
    "          rowIdx.append(curPixIdx)\n",
    "          colIdx.append(destPixIdx)\n",
    "\n",
    "#Practical implementation using scipy support for sparse matrices\n",
    "A = csr_matrix((np.array(data), (np.array(rowIdx), np.array(colIdx))), dtype=np.float32)\n",
    "\n",
    "#Now the diagonal matrix\n",
    "D = dia_matrix((np.array(A.sum(axis=0)),0),shape=A.shape)\n",
    "\n",
    "#We can define the laplacian: L = D^-0.5 A D^-0.5\n",
    "L = D.power(-0.5)*A*D.power(-0.5)"
   ]
  },
  {
   "cell_type": "code",
   "execution_count": null,
   "metadata": {
    "collapsed": true
   },
   "outputs": [],
   "source": []
  },
  {
   "cell_type": "code",
   "execution_count": null,
   "metadata": {
    "collapsed": true
   },
   "outputs": [],
   "source": []
  }
 ],
 "metadata": {
  "kernelspec": {
   "display_name": "Python 3",
   "language": "python",
   "name": "python3"
  },
  "language_info": {
   "codemirror_mode": {
    "name": "ipython",
    "version": 3
   },
   "file_extension": ".py",
   "mimetype": "text/x-python",
   "name": "python",
   "nbconvert_exporter": "python",
   "pygments_lexer": "ipython3",
   "version": "3.6.0"
  }
 },
 "nbformat": 4,
 "nbformat_minor": 2
}
